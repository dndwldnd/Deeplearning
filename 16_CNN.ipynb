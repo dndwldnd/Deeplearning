{
  "nbformat": 4,
  "nbformat_minor": 0,
  "metadata": {
    "colab": {
      "provenance": [],
      "authorship_tag": "ABX9TyMWHwwoSXgFQQd17XHcxP7Y",
      "include_colab_link": true
    },
    "kernelspec": {
      "name": "python3",
      "display_name": "Python 3"
    },
    "language_info": {
      "name": "python"
    }
  },
  "cells": [
    {
      "cell_type": "markdown",
      "metadata": {
        "id": "view-in-github",
        "colab_type": "text"
      },
      "source": [
        "<a href=\"https://colab.research.google.com/github/gaeun120312/Deeplearning/blob/main/16_CNN.ipynb\" target=\"_parent\"><img src=\"https://colab.research.google.com/assets/colab-badge.svg\" alt=\"Open In Colab\"/></a>"
      ]
    },
    {
      "cell_type": "code",
      "execution_count": 2,
      "metadata": {
        "id": "zJkl6y5BdEDz",
        "colab": {
          "base_uri": "https://localhost:8080/"
        },
        "outputId": "1a2270cd-d7e8-4d9d-b99b-c18b12d6435c"
      },
      "outputs": [
        {
          "output_type": "stream",
          "name": "stdout",
          "text": [
            "학습셋 이미지 수: 60000개\n",
            "테스트셋 이미지 수: 10000개\n"
          ]
        }
      ],
      "source": [
        "# 라이브러리 호출\n",
        "from tensorflow.keras.datasets import mnist\n",
        "from tensorflow.keras.utils import to_categorical\n",
        "\n",
        "import sys\n",
        "import os\n",
        "import matplotlib.pyplot as plt\n",
        "\n",
        "(X_train, y_train), (X_test, y_test) = mnist.load_data()\n",
        "\n",
        "print(\"학습셋 이미지 수: %d개\" % (X_train.shape[0]))\n",
        "print(\"테스트셋 이미지 수: %d개\" % (X_test.shape[0]))"
      ]
    },
    {
      "cell_type": "code",
      "source": [
        "plt.imshow(X_train[0], cmap='Greys')\n",
        "plt.show()"
      ],
      "metadata": {
        "colab": {
          "base_uri": "https://localhost:8080/",
          "height": 430
        },
        "id": "zlokoLPK0W3A",
        "outputId": "38e19b1c-098c-4142-8778-6da47f537e27"
      },
      "execution_count": 4,
      "outputs": [
        {
          "output_type": "display_data",
          "data": {
            "text/plain": [
              "<Figure size 640x480 with 1 Axes>"
            ],
            "image/png": "[encoded data removed]"
          },
          "metadata": {}
        }
      ]
    },
    {
      "cell_type": "code",
      "source": [
        "# 이미지 생성\n",
        "for x in X_train[0]:\n",
        "  for i in x:\n",
        "    sys.stdout.write(\"%-3s\" % i)\n",
        "  sys.stdout.write(\"\\n\")"
      ],
      "metadata": {
        "colab": {
          "base_uri": "https://localhost:8080/"
        },
        "id": "QWUIA21w0rVo",
        "outputId": "f82b5475-4b2c-4d33-c0ca-f46b162b1bdd"
      },
      "execution_count": 5,
      "outputs": [
        {
          "output_type": "stream",
          "name": "stdout",
          "text": [
            "0  0  0  0  0  0  0  0  0  0  0  0  0  0  0  0  0  0  0  0  0  0  0  0  0  0  0  0  \n",
            "0  0  0  0  0  0  0  0  0  0  0  0  0  0  0  0  0  0  0  0  0  0  0  0  0  0  0  0  \n",
            "0  0  0  0  0  0  0  0  0  0  0  0  0  0  0  0  0  0  0  0  0  0  0  0  0  0  0  0  \n",
            "0  0  0  0  0  0  0  0  0  0  0  0  0  0  0  0  0  0  0  0  0  0  0  0  0  0  0  0  \n",
            "0  0  0  0  0  0  0  0  0  0  0  0  0  0  0  0  0  0  0  0  0  0  0  0  0  0  0  0  \n",
            "0  0  0  0  0  0  0  0  0  0  0  0  3  18 18 18 12613617526 1662552471270  0  0  0  \n",
            "0  0  0  0  0  0  0  0  30 36 94 15417025325325325325322517225324219564 0  0  0  0  \n",
            "0  0  0  0  0  0  0  49 23825325325325325325325325325193 82 82 56 39 0  0  0  0  0  \n",
            "0  0  0  0  0  0  0  18 2192532532532532531981822472410  0  0  0  0  0  0  0  0  0  \n",
            "0  0  0  0  0  0  0  0  80 15610725325320511 0  43 1540  0  0  0  0  0  0  0  0  0  \n",
            "0  0  0  0  0  0  0  0  0  14 1  15425390 0  0  0  0  0  0  0  0  0  0  0  0  0  0  \n",
            "0  0  0  0  0  0  0  0  0  0  0  1392531902  0  0  0  0  0  0  0  0  0  0  0  0  0  \n",
            "0  0  0  0  0  0  0  0  0  0  0  11 19025370 0  0  0  0  0  0  0  0  0  0  0  0  0  \n",
            "0  0  0  0  0  0  0  0  0  0  0  0  35 2412251601081  0  0  0  0  0  0  0  0  0  0  \n",
            "0  0  0  0  0  0  0  0  0  0  0  0  0  81 24025325311925 0  0  0  0  0  0  0  0  0  \n",
            "0  0  0  0  0  0  0  0  0  0  0  0  0  0  45 18625325315027 0  0  0  0  0  0  0  0  \n",
            "0  0  0  0  0  0  0  0  0  0  0  0  0  0  0  16 93 2522531870  0  0  0  0  0  0  0  \n",
            "0  0  0  0  0  0  0  0  0  0  0  0  0  0  0  0  0  24925324964 0  0  0  0  0  0  0  \n",
            "0  0  0  0  0  0  0  0  0  0  0  0  0  0  46 1301832532532072  0  0  0  0  0  0  0  \n",
            "0  0  0  0  0  0  0  0  0  0  0  0  39 1482292532532532501820  0  0  0  0  0  0  0  \n",
            "0  0  0  0  0  0  0  0  0  0  24 11422125325325325320178 0  0  0  0  0  0  0  0  0  \n",
            "0  0  0  0  0  0  0  0  23 66 21325325325325319881 2  0  0  0  0  0  0  0  0  0  0  \n",
            "0  0  0  0  0  0  18 17121925325325325319580 9  0  0  0  0  0  0  0  0  0  0  0  0  \n",
            "0  0  0  0  55 17222625325325325324413311 0  0  0  0  0  0  0  0  0  0  0  0  0  0  \n",
            "0  0  0  0  13625325325321213513216 0  0  0  0  0  0  0  0  0  0  0  0  0  0  0  0  \n",
            "0  0  0  0  0  0  0  0  0  0  0  0  0  0  0  0  0  0  0  0  0  0  0  0  0  0  0  0  \n",
            "0  0  0  0  0  0  0  0  0  0  0  0  0  0  0  0  0  0  0  0  0  0  0  0  0  0  0  0  \n",
            "0  0  0  0  0  0  0  0  0  0  0  0  0  0  0  0  0  0  0  0  0  0  0  0  0  0  0  0  \n"
          ]
        }
      ]
    },
    {
      "cell_type": "code",
      "source": [
        "# 차원 변환 과정 (2차원 -> 1차원)\n",
        "X_train = X_train.reshape(X_train.shape[0], 784)  # 784=28*28\n",
        "X_train = X_train.astype('float64')\n",
        "X_train = X_train / 255\n",
        "# 정규화 : 흑백 이미지 사진 명도(0~255) -> (실수, 0~1 사이로 변환)"
      ],
      "metadata": {
        "id": "AbWWWdT-1psb"
      },
      "execution_count": 7,
      "outputs": []
    },
    {
      "cell_type": "code",
      "source": [
        "# train 데이터와 test 데이터 같은 성격데이터로 맞춤\n",
        "X_test = X_test.reshape(X_test.shape[0], 784).astype('float64') / 255"
      ],
      "metadata": {
        "id": "TVjyEpZA2SB1"
      },
      "execution_count": 8,
      "outputs": []
    },
    {
      "cell_type": "code",
      "source": [
        "# 클래스 값 확인\n",
        "print(\"class : %d\" % (y_train[0]))"
      ],
      "metadata": {
        "colab": {
          "base_uri": "https://localhost:8080/"
        },
        "id": "UTqEnHG63SAJ",
        "outputId": "752fe278-18ab-4180-d795-a062fa6a08b5"
      },
      "execution_count": 10,
      "outputs": [
        {
          "output_type": "stream",
          "name": "stdout",
          "text": [
            "class : 5\n"
          ]
        }
      ]
    },
    {
      "cell_type": "code",
      "source": [
        "y_train[:5]  # 정답 데이터 정수"
      ],
      "metadata": {
        "colab": {
          "base_uri": "https://localhost:8080/"
        },
        "id": "rZFBLJFZ3mNb",
        "outputId": "3a5b0824-4cce-4acf-ae3d-31dd3a3bf9a7"
      },
      "execution_count": 12,
      "outputs": [
        {
          "output_type": "execute_result",
          "data": {
            "text/plain": [
              "array([5, 0, 4, 1, 9], dtype=uint8)"
            ]
          },
          "metadata": {},
          "execution_count": 12
        }
      ]
    },
    {
      "cell_type": "code",
      "source": [
        "# 이진화(binary) -> one-hot encoding\n",
        "y_train = to_categorical(y_train, 10) # to_categorical(시리즈, 클래스 개수)\n",
        "y_test = to_categorical(y_test, 10)"
      ],
      "metadata": {
        "id": "rJ-eLKOh4CJ7"
      },
      "execution_count": 13,
      "outputs": []
    },
    {
      "cell_type": "code",
      "source": [
        "print(y_train[0])"
      ],
      "metadata": {
        "colab": {
          "base_uri": "https://localhost:8080/"
        },
        "id": "DWCoYC3E4RdZ",
        "outputId": "b6bd7b69-8e74-49ee-f76c-17cf6b5e166c"
      },
      "execution_count": 14,
      "outputs": [
        {
          "output_type": "stream",
          "name": "stdout",
          "text": [
            "[0. 0. 0. 0. 0. 1. 0. 0. 0. 0.]\n"
          ]
        }
      ]
    },
    {
      "cell_type": "code",
      "source": [
        "# 딥러닝 기본 프레임 만들기\n",
        "from tensorflow.keras.models import Sequential\n",
        "from tensorflow.keras.layers import Dense\n",
        "from tensorflow.keras.callbacks import ModelCheckpoint, EarlyStopping\n",
        "from tensorflow.keras.utils import to_categorical"
      ],
      "metadata": {
        "id": "rE41P8vL4TFS"
      },
      "execution_count": 17,
      "outputs": []
    },
    {
      "cell_type": "code",
      "source": [
        "# 모델 구조 결정\n",
        "model = Sequential()\n",
        "model.add(Dense(512, input_dim=784, activation='relu'))  # 입력 28*28, 출력 512\n",
        "model.add(Dense(10, activation='softmax'))  # 출력 10, 0~9\n",
        "model.summary()"
      ],
      "metadata": {
        "colab": {
          "base_uri": "https://localhost:8080/"
        },
        "id": "yWNtbKdL6Gd6",
        "outputId": "0447a92c-6110-4c75-cc08-d664a8091baf"
      },
      "execution_count": 18,
      "outputs": [
        {
          "output_type": "stream",
          "name": "stdout",
          "text": [
            "Model: \"sequential_1\"\n",
            "_________________________________________________________________\n",
            " Layer (type)                Output Shape              Param #   \n",
            "=================================================================\n",
            " dense_2 (Dense)             (None, 512)               401920    \n",
            "                                                                 \n",
            " dense_3 (Dense)             (None, 10)                5130      \n",
            "                                                                 \n",
            "=================================================================\n",
            "Total params: 407050 (1.55 MB)\n",
            "Trainable params: 407050 (1.55 MB)\n",
            "Non-trainable params: 0 (0.00 Byte)\n",
            "_________________________________________________________________\n"
          ]
        }
      ]
    },
    {
      "cell_type": "code",
      "source": [
        "model.compile(loss='categorical_crossentropy', optimizer='adam', metrics=['accuracy'])"
      ],
      "metadata": {
        "id": "UjEfocgA6HBR"
      },
      "execution_count": 19,
      "outputs": []
    },
    {
      "cell_type": "code",
      "source": [
        "# 모델 최적화 설정\n",
        "modelpath = \"./MINIST_MLP.hdf5\"\n",
        "checkpointer = ModelCheckpoint(filepath=modelpath, monitor='val_loss', verbose=1, save_best_only=True)\n",
        "early_stopping_callback = EarlyStopping(monitor='val_loss', patience=10)\n",
        "\n",
        "history = model.fit(X_train, y_train, validation_split=0.25, epochs=30,\n",
        "                    batch_size=200, verbose=0, callbacks=[early_stopping_callback, checkpointer])\n",
        "\n",
        "# 테스트 정확도 출력\n",
        "print(\"\\n Test Accuracy: %.4f\" % (model.evaluate(X_test, y_test)[1]))"
      ],
      "metadata": {
        "colab": {
          "base_uri": "https://localhost:8080/"
        },
        "id": "xs04nSo_64Yk",
        "outputId": "30606387-e1fd-4ca9-ae8d-c4f741d974ef"
      },
      "execution_count": 21,
      "outputs": [
        {
          "output_type": "stream",
          "name": "stdout",
          "text": [
            "\n",
            "Epoch 1: val_loss improved from inf to 0.18939, saving model to ./MINIST_MLP.hdf5\n"
          ]
        },
        {
          "output_type": "stream",
          "name": "stderr",
          "text": [
            "/usr/local/lib/python3.10/dist-packages/keras/src/engine/training.py:3103: UserWarning: You are saving your model as an HDF5 file via `model.save()`. This file format is considered legacy. We recommend using instead the native Keras format, e.g. `model.save('my_model.keras')`.\n",
            "  saving_api.save_model(\n"
          ]
        },
        {
          "output_type": "stream",
          "name": "stdout",
          "text": [
            "\n",
            "Epoch 2: val_loss improved from 0.18939 to 0.13057, saving model to ./MINIST_MLP.hdf5\n",
            "\n",
            "Epoch 3: val_loss improved from 0.13057 to 0.11061, saving model to ./MINIST_MLP.hdf5\n",
            "\n",
            "Epoch 4: val_loss improved from 0.11061 to 0.10882, saving model to ./MINIST_MLP.hdf5\n",
            "\n",
            "Epoch 5: val_loss improved from 0.10882 to 0.10159, saving model to ./MINIST_MLP.hdf5\n",
            "\n",
            "Epoch 6: val_loss improved from 0.10159 to 0.09296, saving model to ./MINIST_MLP.hdf5\n",
            "\n",
            "Epoch 7: val_loss improved from 0.09296 to 0.08660, saving model to ./MINIST_MLP.hdf5\n",
            "\n",
            "Epoch 8: val_loss did not improve from 0.08660\n",
            "\n",
            "Epoch 9: val_loss improved from 0.08660 to 0.08344, saving model to ./MINIST_MLP.hdf5\n",
            "\n",
            "Epoch 10: val_loss did not improve from 0.08344\n",
            "\n",
            "Epoch 11: val_loss did not improve from 0.08344\n",
            "\n",
            "Epoch 12: val_loss improved from 0.08344 to 0.08145, saving model to ./MINIST_MLP.hdf5\n",
            "\n",
            "Epoch 13: val_loss did not improve from 0.08145\n",
            "\n",
            "Epoch 14: val_loss did not improve from 0.08145\n",
            "\n",
            "Epoch 15: val_loss did not improve from 0.08145\n",
            "\n",
            "Epoch 16: val_loss did not improve from 0.08145\n",
            "\n",
            "Epoch 17: val_loss did not improve from 0.08145\n",
            "\n",
            "Epoch 18: val_loss did not improve from 0.08145\n",
            "\n",
            "Epoch 19: val_loss did not improve from 0.08145\n",
            "\n",
            "Epoch 20: val_loss did not improve from 0.08145\n",
            "\n",
            "Epoch 21: val_loss did not improve from 0.08145\n",
            "\n",
            "Epoch 22: val_loss did not improve from 0.08145\n",
            "313/313 [==============================] - 1s 3ms/step - loss: 0.0728 - accuracy: 0.9818\n",
            "\n",
            " Test Accuracy: 0.9818\n"
          ]
        }
      ]
    },
    {
      "cell_type": "code",
      "source": [
        "# 그래프 표현\n",
        "import numpy as np\n",
        "\n",
        "y_vloss = history.history['val_loss']\n",
        "y_loss = history.history['loss']\n",
        "\n",
        "x_len = np.arange(len(y_loss))\n",
        "plt.plot(x_len, y_vloss, marker='.', c=\"red\", label=\"Testset_loss\")\n",
        "plt.plot(x_len, y_loss, marker='.', c=\"blue\", label=\"Trainset_loss\")\n",
        "\n",
        "plt.legend(loc='upper right')\n",
        "plt.grid()\n",
        "plt.xlabel('epoch')\n",
        "plt.ylabel('loss')\n",
        "plt.show()"
      ],
      "metadata": {
        "colab": {
          "base_uri": "https://localhost:8080/",
          "height": 449
        },
        "id": "qIvsE-XI7S47",
        "outputId": "1f54e237-a6ad-4e81-c238-fd747043f898"
      },
      "execution_count": 25,
      "outputs": [
        {
          "output_type": "display_data",
          "data": {
            "text/plain": [
              "<Figure size 640x480 with 1 Axes>"
            ],
            "image/png": "[encoded data removed]"
          },
          "metadata": {}
        }
      ]
    },
    {
      "cell_type": "code",
      "source": [
        "# CNN\n",
        "from tensorflow.keras.layers import Dense, Conv2D, Flatten, MaxPooling2D, Dropout\n",
        "from tensorflow.keras.models import Sequential\n",
        "from tensorflow.keras.callbacks import ModelCheckpoint, EarlyStopping\n",
        "from tensorflow.keras.utils import to_categorical\n",
        "from tensorflow.keras.datasets import mnist\n",
        "\n",
        "import matplotlib.pyplot as plt\n",
        "import numpy as np\n",
        "\n",
        "(X_train, y_train), (X_test, y_test) = mnist.load_data()\n",
        "\n",
        "# 모델 input_shape(가로,세로,채널)로 맞추기 -> reshape(데이터개수,가로,세로,채널)\n",
        "X_train = X_train.reshape(X_train.shape[0], 28, 28, 1).astype('float32') / 255\n",
        "X_test = X_test.reshape(X_test.shape[0], 28, 28, 1).astype('float32') / 255\n",
        "\n",
        "y_train = to_categorical(y_train, 10)\n",
        "y_test = to_categorical(y_test, 10)\n",
        "\n",
        "model = Sequential()\n",
        "model.add(Conv2D(32, kernel_size=(3,3), input_shape=(28,28,1), activation='relu'))\n",
        "model.add(Conv2D(64, (3,3), activation='relu'))\n",
        "# model.add(MaxPooling2D(pool_size=(2,2)))\n",
        "# model.add(Dropout(0.25))\n",
        "model.add(Flatten())  # 2차원 데이터 -> 1차원으로 변환\n",
        "# model.add(Dense(128, activation='relu'))\n",
        "# model.add(Dropout(0.5))\n",
        "model.add(Dense(10, activation='softmax'))\n",
        "model.summary()\n",
        "\n",
        "## I:입력 FeatureMap 크기\n",
        "## F:Filter 크기(kernel size)\n",
        "## P:Padding(정수): 모서리 채우기, 1이면 4x4\n",
        "## S:Strides(정수): 보폭\n",
        "## O = (I - F + 2P)/S + 1 = (28 - 3 + 2*0) / 1 + 1 = I-F+1 = 28-3+1 = 26"
      ],
      "metadata": {
        "colab": {
          "base_uri": "https://localhost:8080/"
        },
        "id": "5MeubIx5AxVY",
        "outputId": "74792af9-218d-4128-c071-6a420ed7bcb4"
      },
      "execution_count": 37,
      "outputs": [
        {
          "output_type": "stream",
          "name": "stdout",
          "text": [
            "Model: \"sequential_7\"\n",
            "_________________________________________________________________\n",
            " Layer (type)                Output Shape              Param #   \n",
            "=================================================================\n",
            " conv2d_11 (Conv2D)          (None, 26, 26, 32)        320       \n",
            "                                                                 \n",
            " conv2d_12 (Conv2D)          (None, 24, 24, 64)        18496     \n",
            "                                                                 \n",
            " flatten_3 (Flatten)         (None, 36864)             0         \n",
            "                                                                 \n",
            " dense_9 (Dense)             (None, 10)                368650    \n",
            "                                                                 \n",
            "=================================================================\n",
            "Total params: 387466 (1.48 MB)\n",
            "Trainable params: 387466 (1.48 MB)\n",
            "Non-trainable params: 0 (0.00 Byte)\n",
            "_________________________________________________________________\n"
          ]
        }
      ]
    },
    {
      "cell_type": "code",
      "source": [
        "# 모델 컴파일\n",
        "model.compile(loss='categorical_crossentropy', optimizer='adam', metrics=['accuracy'])\n",
        "\n",
        "# 모델 최적화 설정\n",
        "modelpath = \"./MINIST_CNN.hdf5\"\n",
        "checkpointer = ModelCheckpoint(filepath=modelpath, monitor='val_loss', verbose=1, save_best_only=True)\n",
        "early_stopping_callback = EarlyStopping(monitor='val_loss', patience=10)\n",
        "\n",
        "history = model.fit(X_train, y_train, validation_split=0.25, epochs=30,\n",
        "                    batch_size=200, verbose=0, callbacks=[early_stopping_callback, checkpointer])\n",
        "\n",
        "# 테스트 정확도 출력\n",
        "print(\"\\n Test Accuracy: %.4f\" % (model.evaluate(X_test, y_test)[1]))"
      ],
      "metadata": {
        "colab": {
          "base_uri": "https://localhost:8080/"
        },
        "id": "n9zLn6BdPLJW",
        "outputId": "7da931e4-8729-42af-b1f2-e90610ba873a"
      },
      "execution_count": 38,
      "outputs": [
        {
          "output_type": "stream",
          "name": "stdout",
          "text": [
            "\n",
            "Epoch 1: val_loss improved from inf to 0.08700, saving model to ./MINIST_CNN.hdf5\n",
            "\n",
            "Epoch 2: val_loss improved from 0.08700 to 0.06830, saving model to ./MINIST_CNN.hdf5\n",
            "\n",
            "Epoch 3: val_loss improved from 0.06830 to 0.06062, saving model to ./MINIST_CNN.hdf5\n",
            "\n",
            "Epoch 4: val_loss did not improve from 0.06062\n",
            "\n",
            "Epoch 5: val_loss did not improve from 0.06062\n",
            "\n",
            "Epoch 6: val_loss did not improve from 0.06062\n",
            "\n",
            "Epoch 7: val_loss did not improve from 0.06062\n",
            "\n",
            "Epoch 8: val_loss did not improve from 0.06062\n",
            "\n",
            "Epoch 9: val_loss did not improve from 0.06062\n",
            "\n",
            "Epoch 10: val_loss did not improve from 0.06062\n",
            "\n",
            "Epoch 11: val_loss did not improve from 0.06062\n",
            "\n",
            "Epoch 12: val_loss did not improve from 0.06062\n",
            "\n",
            "Epoch 13: val_loss did not improve from 0.06062\n",
            "313/313 [==============================] - 7s 23ms/step - loss: 0.0638 - accuracy: 0.9842\n",
            "\n",
            " Test Accuracy: 0.9842\n"
          ]
        }
      ]
    },
    {
      "cell_type": "code",
      "source": [
        "y_vloss = history.history['val_loss']\n",
        "y_loss = history.history['loss']\n",
        "\n",
        "x_len = np.arange(len(y_loss))\n",
        "plt.plot(x_len, y_vloss, marker='.', c=\"red\", label=\"Testset_loss\")\n",
        "plt.plot(x_len, y_loss, marker='.', c=\"blue\", label=\"Trainset_loss\")\n",
        "\n",
        "plt.legend(loc='upper right')\n",
        "plt.grid()\n",
        "plt.xlabel('epoch')\n",
        "plt.ylabel('loss')\n",
        "plt.show()"
      ],
      "metadata": {
        "colab": {
          "base_uri": "https://localhost:8080/",
          "height": 449
        },
        "id": "u4kuCbA8TzrZ",
        "outputId": "49da6ddf-b515-4b13-9222-673644e95682"
      },
      "execution_count": 39,
      "outputs": [
        {
          "output_type": "display_data",
          "data": {
            "text/plain": [
              "<Figure size 640x480 with 1 Axes>"
            ],
            "image/png": "[encoded data removed]"
          },
          "metadata": {}
        }
      ]
    }
  ]
}